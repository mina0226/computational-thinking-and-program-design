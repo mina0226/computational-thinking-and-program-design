{
  "nbformat": 4,
  "nbformat_minor": 0,
  "metadata": {
    "colab": {
      "name": "think_week11_a108060006.ipynb",
      "provenance": [],
      "authorship_tag": "ABX9TyPjWhBxVnyChSu79imzENa4",
      "include_colab_link": true
    },
    "kernelspec": {
      "name": "python3",
      "display_name": "Python 3"
    }
  },
  "cells": [
    {
      "cell_type": "markdown",
      "metadata": {
        "id": "view-in-github",
        "colab_type": "text"
      },
      "source": [
        "<a href=\"https://colab.research.google.com/github/mina0226/computational-thinking-and-program-design/blob/master/think_week11_a108060006.ipynb\" target=\"_parent\"><img src=\"https://colab.research.google.com/assets/colab-badge.svg\" alt=\"Open In Colab\"/></a>"
      ]
    },
    {
      "cell_type": "code",
      "metadata": {
        "id": "f1jlNxEH5gPC",
        "colab_type": "code",
        "colab": {
          "base_uri": "https://localhost:8080/",
          "height": 90
        },
        "outputId": "84f17498-b812-4402-e7a1-39597d6868f5"
      },
      "source": [
        "# 聊天機器人自我介紹\n",
        "print(\"哈囉。我是Zyxo 64。我是一個聊天機器人。\")\n",
        "print(\"我喜歡動物，也喜歡聊食物。\")\n",
        "\n",
        "# 取得使用者名字\n",
        "name = input(\"你叫什麼名字？: \")\n",
        "\n",
        "# 打招呼\n",
        "print(\"你好\", name, \"很高興認識你\")"
      ],
      "execution_count": 1,
      "outputs": [
        {
          "output_type": "stream",
          "text": [
            "哈囉。我是Zyxo 64。我是一個聊天機器人。\n",
            "我喜歡動物，也喜歡聊食物。\n",
            "你叫什麼名字？: Mina\n",
            "你好 Mina 很高興認識你\n"
          ],
          "name": "stdout"
        }
      ]
    },
    {
      "cell_type": "code",
      "metadata": {
        "id": "RLUe6nyk563W",
        "colab_type": "code",
        "colab": {
          "base_uri": "https://localhost:8080/",
          "height": 126
        },
        "outputId": "f586e67d-b51a-4268-de24-4c1cb6469061"
      },
      "source": [
        "# 從使用者取得今年年份\n",
        "year = input(\"我記不太清楚日期。今年是幾年？： \")\n",
        "print(\"好的，我覺得沒錯。謝謝！\")\n",
        "\n",
        "# 請使用者猜年齡\n",
        "myage = input(\"你能猜出我的年齡嗎？ - 輸入一個數字： \")\n",
        "print(\"沒錯，你猜對了。我\", myage)\n",
        "\n",
        "# 計算聊天機器人滿100歲的年份\n",
        "myage = int(myage)\n",
        "nyears = 100 - myage\n",
        "print(\"我再\", nyears, \"年就滿100歲了。\")\n",
        "print(\"到時候是\", int(year) + nyears) # 將今年年份轉換為整數"
      ],
      "execution_count": 2,
      "outputs": [
        {
          "output_type": "stream",
          "text": [
            "我記不太清楚日期。今年是幾年？： 2020\n",
            "好的，我覺得沒錯。謝謝！\n",
            "你能猜出我的年齡嗎？ - 輸入一個數字： 19\n",
            "沒錯，你猜對了。我 19\n",
            "我再 81 年就滿100歲了。\n",
            "到時候是 2101\n"
          ],
          "name": "stdout"
        }
      ]
    },
    {
      "cell_type": "code",
      "metadata": {
        "id": "VxhBcrsz6L1N",
        "colab_type": "code",
        "colab": {
          "base_uri": "https://localhost:8080/",
          "height": 108
        },
        "outputId": "35e06b39-3468-4e37-c1b1-2330e2324db5"
      },
      "source": [
        "# 食物話題\n",
        "print(\"我喜歡巧克力，也喜歡嘗試各種新食物。\")\n",
        "food = input(\"你呢。你最喜歡的食物是什麼？： \")\n",
        "print(\"我也喜歡\", food)\n",
        "question = \"你多久吃一次\" + food + \"?: \"\n",
        "howoften = input(question)\n",
        "print(\"真有趣。不知道這樣對健康好不好！\")"
      ],
      "execution_count": 3,
      "outputs": [
        {
          "output_type": "stream",
          "text": [
            "我喜歡巧克力，也喜歡嘗試各種新食物。\n",
            "你呢。你最喜歡的食物是什麼？： 海苔\n",
            "我也喜歡 海苔\n",
            "你多久吃一次海苔?: 三天一次\n",
            "真有趣。不知道這樣對健康好不好！\n"
          ],
          "name": "stdout"
        }
      ]
    },
    {
      "cell_type": "code",
      "metadata": {
        "id": "6jSGiI4f6Yf9",
        "colab_type": "code",
        "colab": {
          "base_uri": "https://localhost:8080/",
          "height": 72
        },
        "outputId": "5e7fbd93-ef5c-4618-d6d8-78fd0a880d07"
      },
      "source": [
        "# 動物話題\n",
        "animal = input(\"我最喜歡的動物是長頸鹿。你呢？； \")\n",
        "print(animal, \"! 我不喜歡。\")\n",
        "print(\"不知道\", animal, \"喜不喜歡吃\", food, \"?\")"
      ],
      "execution_count": 4,
      "outputs": [
        {
          "output_type": "stream",
          "text": [
            "我最喜歡的動物是長頸鹿。你呢？； 貓咪\n",
            "貓咪 ! 我不喜歡。\n",
            "不知道 貓咪 喜不喜歡吃 海苔 ?\n"
          ],
          "name": "stdout"
        }
      ]
    },
    {
      "cell_type": "code",
      "metadata": {
        "id": "hdDRgEGy6n1d",
        "colab_type": "code",
        "colab": {
          "base_uri": "https://localhost:8080/",
          "height": 90
        },
        "outputId": "3f4b1334-7b2c-4a4f-e582-ed72f89b82f7"
      },
      "source": [
        "# 關於心情的對話\n",
        "feeling = input(\"你今天覺得如何？； \")\n",
        "print(\"為什麼你現在覺得\", feeling, \"呢？\")\n",
        "reason = input(\"請告訴我： \")\n",
        "print(\"我知道了。謝謝分享。\")"
      ],
      "execution_count": 5,
      "outputs": [
        {
          "output_type": "stream",
          "text": [
            "你今天覺得如何？； 有點累\n",
            "為什麼你現在覺得 有點累 呢？\n",
            "請告訴我： 期末作業報告很多\n",
            "我知道了。謝謝分享。\n"
          ],
          "name": "stdout"
        }
      ]
    },
    {
      "cell_type": "code",
      "metadata": {
        "id": "GDFPtHNP6uqo",
        "colab_type": "code",
        "colab": {
          "base_uri": "https://localhost:8080/",
          "height": 72
        },
        "outputId": "849c1012-6925-437a-d7b5-27c6b6283904"
      },
      "source": [
        "# 道別\n",
        "print(\"今天事情真多！\")\n",
        "print(\"我累到無法繼續聊天了，之後再聊。\")\n",
        "print(\"再見\", name, \"我喜歡跟你聊天！\")"
      ],
      "execution_count": 6,
      "outputs": [
        {
          "output_type": "stream",
          "text": [
            "今天事情真多！\n",
            "我累到無法繼續聊天了，之後再聊。\n",
            "再見 Mina 我喜歡跟你聊天！\n"
          ],
          "name": "stdout"
        }
      ]
    },
    {
      "cell_type": "code",
      "metadata": {
        "id": "HovPBtxe62Go",
        "colab_type": "code",
        "colab": {}
      },
      "source": [
        ""
      ],
      "execution_count": 0,
      "outputs": []
    }
  ]
}