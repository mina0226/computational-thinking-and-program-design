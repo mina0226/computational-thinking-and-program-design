{
  "nbformat": 4,
  "nbformat_minor": 0,
  "metadata": {
    "colab": {
      "name": "think_week6_a108060006.ipynb",
      "provenance": [],
      "collapsed_sections": [],
      "authorship_tag": "ABX9TyO/AvrbcgaK5La1xihNA9iP",
      "include_colab_link": true
    },
    "kernelspec": {
      "name": "python3",
      "display_name": "Python 3"
    }
  },
  "cells": [
    {
      "cell_type": "markdown",
      "metadata": {
        "id": "view-in-github",
        "colab_type": "text"
      },
      "source": [
        "<a href=\"https://colab.research.google.com/github/mina0226/computational-thinking-and-program-design/blob/master/think_week6_a108060006.ipynb\" target=\"_parent\"><img src=\"https://colab.research.google.com/assets/colab-badge.svg\" alt=\"Open In Colab\"/></a>"
      ]
    },
    {
      "cell_type": "code",
      "metadata": {
        "id": "T-5IqMUndT0Z",
        "colab_type": "code",
        "outputId": "fc6f51d3-17a3-482e-9577-4ae2c74e2fad",
        "colab": {
          "base_uri": "https://localhost:8080/",
          "height": 35
        }
      },
      "source": [
        "s=\"I'm a boy\"\n",
        "print(s)"
      ],
      "execution_count": 0,
      "outputs": [
        {
          "output_type": "stream",
          "text": [
            "I'm a boy\n"
          ],
          "name": "stdout"
        }
      ]
    },
    {
      "cell_type": "code",
      "metadata": {
        "id": "h0hZt4vFdxuY",
        "colab_type": "code",
        "outputId": "1531bacb-77ae-4ce8-95ec-9045429cc5fe",
        "colab": {
          "base_uri": "https://localhost:8080/",
          "height": 35
        }
      },
      "source": [
        "s1=\"I'm a lady\"\n",
        "print(s1)"
      ],
      "execution_count": 0,
      "outputs": [
        {
          "output_type": "stream",
          "text": [
            "I'm a lady\n"
          ],
          "name": "stdout"
        }
      ]
    },
    {
      "cell_type": "code",
      "metadata": {
        "id": "XCK9GvvUg4bO",
        "colab_type": "code",
        "outputId": "9760f981-e386-422d-90d9-a965b34284db",
        "colab": {
          "base_uri": "https://localhost:8080/",
          "height": 35
        }
      },
      "source": [
        "print(False+1)"
      ],
      "execution_count": 0,
      "outputs": [
        {
          "output_type": "stream",
          "text": [
            "1\n"
          ],
          "name": "stdout"
        }
      ]
    },
    {
      "cell_type": "code",
      "metadata": {
        "id": "H_rk5mSpkgHv",
        "colab_type": "code",
        "outputId": "4f03ef00-2293-4a10-d3f6-5b6ad121c7b3",
        "colab": {
          "base_uri": "https://localhost:8080/",
          "height": 35
        }
      },
      "source": [
        "print(True+1)"
      ],
      "execution_count": 0,
      "outputs": [
        {
          "output_type": "stream",
          "text": [
            "2\n"
          ],
          "name": "stdout"
        }
      ]
    },
    {
      "cell_type": "code",
      "metadata": {
        "id": "fxrJCupRkkaX",
        "colab_type": "code",
        "outputId": "d65b7a60-a2f0-4e62-a9df-f059992d1e73",
        "colab": {
          "base_uri": "https://localhost:8080/",
          "height": 35
        }
      },
      "source": [
        "print(int(8.7))"
      ],
      "execution_count": 0,
      "outputs": [
        {
          "output_type": "stream",
          "text": [
            "8\n"
          ],
          "name": "stdout"
        }
      ]
    },
    {
      "cell_type": "code",
      "metadata": {
        "id": "bwXuKee0lP0-",
        "colab_type": "code",
        "outputId": "c5f5ea50-7144-4d92-870b-47a42a2276ab",
        "colab": {
          "base_uri": "https://localhost:8080/",
          "height": 35
        }
      },
      "source": [
        "print(float(87))"
      ],
      "execution_count": 0,
      "outputs": [
        {
          "output_type": "stream",
          "text": [
            "87.0\n"
          ],
          "name": "stdout"
        }
      ]
    },
    {
      "cell_type": "code",
      "metadata": {
        "id": "hpeTezmflX8P",
        "colab_type": "code",
        "outputId": "876c8543-18e2-49f1-9198-67cb4431980f",
        "colab": {
          "base_uri": "https://localhost:8080/",
          "height": 35
        }
      },
      "source": [
        "x=6.8\n",
        "print(type(x))"
      ],
      "execution_count": 0,
      "outputs": [
        {
          "output_type": "stream",
          "text": [
            "<class 'float'>\n"
          ],
          "name": "stdout"
        }
      ]
    },
    {
      "cell_type": "code",
      "metadata": {
        "id": "nlhqPnIzoJhn",
        "colab_type": "code",
        "outputId": "b7d6518b-151f-45cd-ce10-067a1e1a0eaf",
        "colab": {
          "base_uri": "https://localhost:8080/",
          "height": 35
        }
      },
      "source": [
        "x=6.8\n",
        "y=7\n",
        "print(x+y)"
      ],
      "execution_count": 0,
      "outputs": [
        {
          "output_type": "stream",
          "text": [
            "13.8\n"
          ],
          "name": "stdout"
        }
      ]
    },
    {
      "cell_type": "code",
      "metadata": {
        "id": "JOWmyIkmrdHi",
        "colab_type": "code",
        "outputId": "2e406525-2c61-46d5-9261-3cf7f01a120b",
        "colab": {
          "base_uri": "https://localhost:8080/",
          "height": 34
        }
      },
      "source": [
        "name=input(\"Enter your name:\")"
      ],
      "execution_count": 1,
      "outputs": [
        {
          "output_type": "stream",
          "text": [
            "Enter your name:何妤宣\n"
          ],
          "name": "stdout"
        }
      ]
    },
    {
      "cell_type": "code",
      "metadata": {
        "id": "QXTxsWo7sLtV",
        "colab_type": "code",
        "outputId": "bb428b73-a164-4fc2-e231-62cc960de6f2",
        "colab": {
          "base_uri": "https://localhost:8080/",
          "height": 34
        }
      },
      "source": [
        "print(\"我的名字是\",\"何妤宣\")"
      ],
      "execution_count": 4,
      "outputs": [
        {
          "output_type": "stream",
          "text": [
            "我的名字是 何妤宣\n"
          ],
          "name": "stdout"
        }
      ]
    },
    {
      "cell_type": "code",
      "metadata": {
        "id": "AHPWGS3dvjKm",
        "colab_type": "code",
        "outputId": "318c754b-b41b-4253-b5fe-139797311969",
        "colab": {
          "base_uri": "https://localhost:8080/",
          "height": 34
        }
      },
      "source": [
        "name=\"何妤宣\"\n",
        "print(\"我的名字是:\",name)"
      ],
      "execution_count": 8,
      "outputs": [
        {
          "output_type": "stream",
          "text": [
            "我的名字是: 何妤宣\n"
          ],
          "name": "stdout"
        }
      ]
    },
    {
      "cell_type": "code",
      "metadata": {
        "id": "pDO-DDyHw0bm",
        "colab_type": "code",
        "colab": {
          "base_uri": "https://localhost:8080/",
          "height": 51
        },
        "outputId": "a74dc4b5-2c6a-43df-df7f-46f6aba645dd"
      },
      "source": [
        "name=input(\"請輸入你的名字\")\n",
        "print(\"名字為\",name)"
      ],
      "execution_count": 9,
      "outputs": [
        {
          "output_type": "stream",
          "text": [
            "請輸入你的名字何妤宣\n",
            "名字為 何妤宣\n"
          ],
          "name": "stdout"
        }
      ]
    },
    {
      "cell_type": "code",
      "metadata": {
        "id": "kmW1Fbxnl-pR",
        "colab_type": "code",
        "colab": {
          "base_uri": "https://localhost:8080/",
          "height": 34
        },
        "outputId": "f310931d-f1a9-4a74-a4c6-a627922ee1df"
      },
      "source": [
        "age=input(\"Enter your age: \")"
      ],
      "execution_count": 12,
      "outputs": [
        {
          "output_type": "stream",
          "text": [
            "Enter your age: 19\n"
          ],
          "name": "stdout"
        }
      ]
    },
    {
      "cell_type": "code",
      "metadata": {
        "id": "C50HvxFPmc6G",
        "colab_type": "code",
        "colab": {
          "base_uri": "https://localhost:8080/",
          "height": 34
        },
        "outputId": "8b79e71f-9d2b-4121-c956-f3459aed628e"
      },
      "source": [
        "print(\"我的年紀是\",19,\"歲\")"
      ],
      "execution_count": 13,
      "outputs": [
        {
          "output_type": "stream",
          "text": [
            "我的年紀是 19 歲\n"
          ],
          "name": "stdout"
        }
      ]
    },
    {
      "cell_type": "code",
      "metadata": {
        "id": "_Gckpbqhm0t1",
        "colab_type": "code",
        "colab": {
          "base_uri": "https://localhost:8080/",
          "height": 34
        },
        "outputId": "0fcf1276-6e74-43f0-ceab-3a8192a15d36"
      },
      "source": [
        "year=19\n",
        "print(\"我的年紀是\",year,\"歲\")"
      ],
      "execution_count": 15,
      "outputs": [
        {
          "output_type": "stream",
          "text": [
            "我的年紀是 19 歲\n"
          ],
          "name": "stdout"
        }
      ]
    },
    {
      "cell_type": "code",
      "metadata": {
        "id": "_AYkNOvPm-_s",
        "colab_type": "code",
        "colab": {
          "base_uri": "https://localhost:8080/",
          "height": 51
        },
        "outputId": "f159e6fb-4b1b-4167-dddb-831c5ab0c6a3"
      },
      "source": [
        "year=input(\"請輸入你的年紀\")\n",
        "print(\"年紀是\",year)\n"
      ],
      "execution_count": 16,
      "outputs": [
        {
          "output_type": "stream",
          "text": [
            "請輸入你的年紀19\n",
            "年紀是 19\n"
          ],
          "name": "stdout"
        }
      ]
    },
    {
      "cell_type": "code",
      "metadata": {
        "id": "Ds4p-KwYnXwM",
        "colab_type": "code",
        "colab": {
          "base_uri": "https://localhost:8080/",
          "height": 34
        },
        "outputId": "3853f74a-3eaa-495b-b46a-2a5e33fae378"
      },
      "source": [
        "weight=input(\"Enter your weight: \")\n"
      ],
      "execution_count": 17,
      "outputs": [
        {
          "output_type": "stream",
          "text": [
            "Enter your weight: 40\n"
          ],
          "name": "stdout"
        }
      ]
    },
    {
      "cell_type": "code",
      "metadata": {
        "id": "5U--C9INntl7",
        "colab_type": "code",
        "colab": {
          "base_uri": "https://localhost:8080/",
          "height": 34
        },
        "outputId": "e3431632-de22-43d9-bed8-d4b52d0e8686"
      },
      "source": [
        "print(\"我的體重是\",40,\"公斤\")"
      ],
      "execution_count": 18,
      "outputs": [
        {
          "output_type": "stream",
          "text": [
            "我的體重是 40 公斤\n"
          ],
          "name": "stdout"
        }
      ]
    },
    {
      "cell_type": "code",
      "metadata": {
        "id": "pJX27OUfn37L",
        "colab_type": "code",
        "colab": {
          "base_uri": "https://localhost:8080/",
          "height": 34
        },
        "outputId": "9c829f66-6428-48c2-e882-c596827d76f7"
      },
      "source": [
        "weight=40\n",
        "print(\"我的體重是\",weight,\"公斤\")"
      ],
      "execution_count": 19,
      "outputs": [
        {
          "output_type": "stream",
          "text": [
            "我的體重是 40 公斤\n"
          ],
          "name": "stdout"
        }
      ]
    },
    {
      "cell_type": "code",
      "metadata": {
        "id": "C5AaPz4NoFPR",
        "colab_type": "code",
        "colab": {
          "base_uri": "https://localhost:8080/",
          "height": 51
        },
        "outputId": "5a6268b5-138a-47de-fd1d-8e902fd23f5c"
      },
      "source": [
        "weight=input(\"請輸入我的體重\")\n",
        "print(\"體重是\",weight)"
      ],
      "execution_count": 20,
      "outputs": [
        {
          "output_type": "stream",
          "text": [
            "請輸入我的體重40\n",
            "體重是 40\n"
          ],
          "name": "stdout"
        }
      ]
    },
    {
      "cell_type": "code",
      "metadata": {
        "id": "6WSV2DkfoWz-",
        "colab_type": "code",
        "colab": {}
      },
      "source": [
        ""
      ],
      "execution_count": 0,
      "outputs": []
    }
  ]
}