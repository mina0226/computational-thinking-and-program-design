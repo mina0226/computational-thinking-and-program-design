{
  "nbformat": 4,
  "nbformat_minor": 0,
  "metadata": {
    "colab": {
      "name": "think_week8_a108060006.ipynb",
      "provenance": [],
      "collapsed_sections": [],
      "authorship_tag": "ABX9TyPSqi5Yrq9TlvwL4+btxM4s",
      "include_colab_link": true
    },
    "kernelspec": {
      "name": "python3",
      "display_name": "Python 3"
    }
  },
  "cells": [
    {
      "cell_type": "markdown",
      "metadata": {
        "id": "view-in-github",
        "colab_type": "text"
      },
      "source": [
        "<a href=\"https://colab.research.google.com/github/mina0226/computational-thinking-and-program-design/blob/master/think_week8_a108060006.ipynb\" target=\"_parent\"><img src=\"https://colab.research.google.com/assets/colab-badge.svg\" alt=\"Open In Colab\"/></a>"
      ]
    },
    {
      "cell_type": "code",
      "metadata": {
        "id": "m61D7j2shmk8",
        "colab_type": "code",
        "outputId": "34c3266b-8158-47ba-ad17-ccd8a8699e57",
        "colab": {
          "base_uri": "https://localhost:8080/",
          "height": 72
        }
      },
      "source": [
        "hours=input(\"Enter movie time hours:\")\n",
        "minutes=input(\"Enter movie time minutes:\")\n",
        "hours=int(hours)\n",
        "minutes=int(minutes)\n",
        "length=hours*60+minutes #數學運算\n",
        "print(\"Movie length is\",length)"
      ],
      "execution_count": 0,
      "outputs": [
        {
          "output_type": "stream",
          "text": [
            "Enter movie time hours:2\n",
            "Enter movie time minutes:13\n",
            "Movie length is 133\n"
          ],
          "name": "stdout"
        }
      ]
    },
    {
      "cell_type": "code",
      "metadata": {
        "id": "y91cUgers9ya",
        "colab_type": "code",
        "colab": {
          "base_uri": "https://localhost:8080/",
          "height": 136
        },
        "outputId": "6fa5dbdd-6650-4555-922d-59d9738be358"
      },
      "source": [
        "hours=input(\"Enter movie time hours:\") \n",
        "minutes=input(\"Enter movie time minutes:\")\n",
        "\n",
        "hours=int(hours)\n",
        "minutes=int(minutes)\n",
        "\n",
        "length=hours*60+minutes #數學運算\n",
        "print(hours,\"Hours\",minutes,\"Minutes\",\"Movie length is\",length,\"minutes\")\n",
        "\n",
        "#133分鐘轉成2小時13分鐘\n",
        "#133分鐘 2小時\n",
        "\n",
        "hours1=length / 60 #hours\n",
        "print(hours1)\n",
        "hours2=int(hours1)\n",
        "print(hours2)\n",
        "\n",
        "#133分鐘 13分鐘\n",
        "minutes1=(hours1 - hours2)* 60\n",
        "minutes2=round(minutes1) #四捨五入\n",
        "\n",
        "print(minutes2)\n",
        "print(length,\"Minutes equals\",hours2,\"Hours\",minutes2,\"Minutes\")"
      ],
      "execution_count": 14,
      "outputs": [
        {
          "output_type": "stream",
          "text": [
            "Enter movie time hours:2\n",
            "Enter movie time minutes:13\n",
            "2 Hours 13 Minutes Movie length is 133 minutes\n",
            "2.216666666666667\n",
            "2\n",
            "13\n",
            "133 Minutes equals 2 Hours 13 Minutes\n"
          ],
          "name": "stdout"
        }
      ]
    },
    {
      "cell_type": "code",
      "metadata": {
        "id": "6szeDeji4Rd_",
        "colab_type": "code",
        "colab": {
          "base_uri": "https://localhost:8080/",
          "height": 119
        },
        "outputId": "737a5e0c-78da-420e-d69f-1db0daf91f12"
      },
      "source": [
        "hours=input(\"Enter movie time hours:\")\n",
        "minutes=input(\"Enter movie time minutes:\")\n",
        "\n",
        "hours=int(hours)\n",
        "minutes=int(minutes)\n",
        "\n",
        "length=hours*60+minutes #數學運算\n",
        "print(hours,\"Hours\",minutes,\"Minutes\",\"Movie length is\",length,\"minutes\")\n",
        "\n",
        "#133分鐘轉成2小時13分鐘\n",
        "#133分鐘 2小時\n",
        "hours1=length //60 #hours\n",
        "print(hours1)\n",
        "\n",
        "#133 13分鐘\n",
        "minutes1=length % 60 \n",
        "print(minutes1)\n",
        "\n",
        "print(length,\"Minutes equals\",hours1,\"Hours\",minutes1,\"Minutes\")"
      ],
      "execution_count": 12,
      "outputs": [
        {
          "output_type": "stream",
          "text": [
            "Enter movie time hours:2\n",
            "Enter movie time minutes:13\n",
            "2 Hours 13 Minutes Movie length is 133 minutes\n",
            "2\n",
            "13\n",
            "133 Minutes equals 2 Hours 13 Minutes\n"
          ],
          "name": "stdout"
        }
      ]
    },
    {
      "cell_type": "code",
      "metadata": {
        "id": "KwZs42WT8eg2",
        "colab_type": "code",
        "colab": {}
      },
      "source": [
        ""
      ],
      "execution_count": 0,
      "outputs": []
    }
  ]
}