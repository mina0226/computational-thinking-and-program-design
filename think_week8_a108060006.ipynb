{
  "nbformat": 4,
  "nbformat_minor": 0,
  "metadata": {
    "colab": {
      "name": "think_week8_a108060006.ipynb",
      "provenance": [],
      "authorship_tag": "ABX9TyNT/xIjTxif7RAlUyRljRx+",
      "include_colab_link": true
    },
    "kernelspec": {
      "name": "python3",
      "display_name": "Python 3"
    }
  },
  "cells": [
    {
      "cell_type": "markdown",
      "metadata": {
        "id": "view-in-github",
        "colab_type": "text"
      },
      "source": [
        "<a href=\"https://colab.research.google.com/github/mina0226/computational-thinking-and-program-design/blob/master/think_week8_a108060006.ipynb\" target=\"_parent\"><img src=\"https://colab.research.google.com/assets/colab-badge.svg\" alt=\"Open In Colab\"/></a>"
      ]
    },
    {
      "cell_type": "code",
      "metadata": {
        "id": "m61D7j2shmk8",
        "colab_type": "code",
        "outputId": "34c3266b-8158-47ba-ad17-ccd8a8699e57",
        "colab": {
          "base_uri": "https://localhost:8080/",
          "height": 72
        }
      },
      "source": [
        "hours=input(\"Enter movie time hours:\")\n",
        "minutes=input(\"Enter movie time minutes:\")\n",
        "hours=int(hours)\n",
        "minutes=int(minutes)\n",
        "length=hours*60+minutes #數學運算\n",
        "print(\"Movie length is\",length)"
      ],
      "execution_count": 0,
      "outputs": [
        {
          "output_type": "stream",
          "text": [
            "Enter movie time hours:2\n",
            "Enter movie time minutes:13\n",
            "Movie length is 133\n"
          ],
          "name": "stdout"
        }
      ]
    },
    {
      "cell_type": "code",
      "metadata": {
        "id": "y91cUgers9ya",
        "colab_type": "code",
        "colab": {
          "base_uri": "https://localhost:8080/",
          "height": 136
        },
        "outputId": "5e8deedb-3987-4589-aebd-ac9fd85e6311"
      },
      "source": [
        "hours=input(\"\bE\b\b\b\b\b\bnter movie time hours:\") \n",
        "minutes=input(\"E\bnter movie time minutes:\")\n",
        "\n",
        "hours=int(hours)\n",
        "minutes=int(minutes)\n",
        "\n",
        "length=hours*60+minutes #數學運算\n",
        "print(hours,\"Hours\",minutes,\"Minutes\",\"Movie length is\",length)\n",
        "\n",
        "#133分鐘轉成2小時13分鐘\n",
        "\n",
        "hours1=length / 60 #hours\n",
        "print(hours1)\n",
        "hours2=int(hours1)\n",
        "print(hours2)\n",
        "\n",
        "#133分鐘 13分鐘\n",
        "minutes1=(hours1 - hours2)* 60\n",
        "minutes2=round(minutes1) #四捨五入\n",
        "\n",
        "print(minutes2)\n",
        "print(length,\"Minutes equals\",hours2,\"Hours\",minutes2,\"Minutes\")"
      ],
      "execution_count": 2,
      "outputs": [
        {
          "output_type": "stream",
          "text": [
            "\bE\b\b\b\b\b\bnter movie time hours:2\n",
            "E\bnter movie time minutes:13\n",
            "2 Hours 13 Minutes Movie length is 133\n",
            "2.216666666666667\n",
            "2\n",
            "13\n",
            "133 Minutes equals 2 Hours 13 Minutes\n"
          ],
          "name": "stdout"
        }
      ]
    },
    {
      "cell_type": "code",
      "metadata": {
        "id": "6szeDeji4Rd_",
        "colab_type": "code",
        "colab": {}
      },
      "source": [
        ""
      ],
      "execution_count": 0,
      "outputs": []
    }
  ]
}