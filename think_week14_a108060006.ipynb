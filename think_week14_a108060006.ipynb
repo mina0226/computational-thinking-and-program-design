{
  "nbformat": 4,
  "nbformat_minor": 0,
  "metadata": {
    "colab": {
      "name": "think_week14_a108060006.ipynb",
      "provenance": [],
      "authorship_tag": "ABX9TyMqywTQ7S1TcSAeQQA4TE8d",
      "include_colab_link": true
    },
    "kernelspec": {
      "name": "python3",
      "display_name": "Python 3"
    }
  },
  "cells": [
    {
      "cell_type": "markdown",
      "metadata": {
        "id": "view-in-github",
        "colab_type": "text"
      },
      "source": [
        "<a href=\"https://colab.research.google.com/github/mina0226/computational-thinking-and-program-design/blob/master/think_week14_a108060006.ipynb\" target=\"_parent\"><img src=\"https://colab.research.google.com/assets/colab-badge.svg\" alt=\"Open In Colab\"/></a>"
      ]
    },
    {
      "cell_type": "code",
      "metadata": {
        "id": "ZGSJTm6h5KLw",
        "colab_type": "code",
        "colab": {
          "base_uri": "https://localhost:8080/",
          "height": 85
        },
        "outputId": "ab92639e-71ef-4d7a-a338-57291619e54c"
      },
      "source": [
        "#作業一\n",
        "\n",
        "w = float(input(\"請輸入你的體重\"))\n",
        "h = float(input(\"請輸入你的身高\"))\n",
        "\n",
        "BMI = w / (h*h)\n",
        "\n",
        "print(\"BMI指數為\",BMI)\n",
        "\n",
        "if BMI < 18.5 :\n",
        "    print(\"體重過輕，要多吃一點喔\")\n",
        "elif BMI < 25 :\n",
        "      print(\"體重正常，繼續維持呦\")\n",
        "elif BMI < 30 :\n",
        "      print(\"體重有點過重囉，注意一下\")\n",
        "else :\n",
        "      print(\"體重肥胖，要減肥啦\")      \n"
      ],
      "execution_count": 5,
      "outputs": [
        {
          "output_type": "stream",
          "text": [
            "請輸入你的體重40\n",
            "請輸入你的身高1.48\n",
            "BMI指數為 18.261504747991236\n",
            "體重過輕，要多吃一點喔\n"
          ],
          "name": "stdout"
        }
      ]
    },
    {
      "cell_type": "code",
      "metadata": {
        "id": "0xbZtNfYJNKP",
        "colab_type": "code",
        "colab": {
          "base_uri": "https://localhost:8080/",
          "height": 187
        },
        "outputId": "19b93d45-d535-47e9-c787-c0db57d27ed8"
      },
      "source": [
        "#作業二\n",
        "\n",
        "#方法一\n",
        "\n",
        "n = 0 #初始條件\n",
        "while n < 10 :  #判斷條件\n",
        "    print(\"Hello,今天如何啊\")\n",
        "    n = n + 1 #更新條件"
      ],
      "execution_count": 12,
      "outputs": [
        {
          "output_type": "stream",
          "text": [
            "Hello,今天如何啊\n",
            "Hello,今天如何啊\n",
            "Hello,今天如何啊\n",
            "Hello,今天如何啊\n",
            "Hello,今天如何啊\n",
            "Hello,今天如何啊\n",
            "Hello,今天如何啊\n",
            "Hello,今天如何啊\n",
            "Hello,今天如何啊\n",
            "Hello,今天如何啊\n"
          ],
          "name": "stdout"
        }
      ]
    },
    {
      "cell_type": "code",
      "metadata": {
        "id": "-WHkaXfVKnjr",
        "colab_type": "code",
        "colab": {
          "base_uri": "https://localhost:8080/",
          "height": 187
        },
        "outputId": "da5c8e68-d16c-4475-c995-4b8878dc8673"
      },
      "source": [
        "#方法二\n",
        "\n",
        "n = 0  #初始條件\n",
        "while n< 10 :  #判斷條件\n",
        "    n = n + 1  #更新條件\n",
        "    print(\"這是第\", n ,\"次說的Hello,今天如何啊\")"
      ],
      "execution_count": 9,
      "outputs": [
        {
          "output_type": "stream",
          "text": [
            "這是第 1 次說的Hello,今天如何啊\n",
            "這是第 2 次說的Hello,今天如何啊\n",
            "這是第 3 次說的Hello,今天如何啊\n",
            "這是第 4 次說的Hello,今天如何啊\n",
            "這是第 5 次說的Hello,今天如何啊\n",
            "這是第 6 次說的Hello,今天如何啊\n",
            "這是第 7 次說的Hello,今天如何啊\n",
            "這是第 8 次說的Hello,今天如何啊\n",
            "這是第 9 次說的Hello,今天如何啊\n",
            "這是第 10 次說的Hello,今天如何啊\n"
          ],
          "name": "stdout"
        }
      ]
    },
    {
      "cell_type": "code",
      "metadata": {
        "id": "11NB7wyWLipD",
        "colab_type": "code",
        "colab": {
          "base_uri": "https://localhost:8080/",
          "height": 357
        },
        "outputId": "4684235e-c2b8-4803-e243-0f303f5e2b14"
      },
      "source": [
        "#方法三\n",
        "\n",
        "n = 0  #初始條件\n",
        "while n < 10 :  #判斷條件\n",
        "    n = n + 1  #更新條件\n",
        "    print(n)\n",
        "    print(\"Hello,今天如何啊\")"
      ],
      "execution_count": 11,
      "outputs": [
        {
          "output_type": "stream",
          "text": [
            "1\n",
            "Hello,今天如何啊\n",
            "2\n",
            "Hello,今天如何啊\n",
            "3\n",
            "Hello,今天如何啊\n",
            "4\n",
            "Hello,今天如何啊\n",
            "5\n",
            "Hello,今天如何啊\n",
            "6\n",
            "Hello,今天如何啊\n",
            "7\n",
            "Hello,今天如何啊\n",
            "8\n",
            "Hello,今天如何啊\n",
            "9\n",
            "Hello,今天如何啊\n",
            "10\n",
            "Hello,今天如何啊\n"
          ],
          "name": "stdout"
        }
      ]
    },
    {
      "cell_type": "code",
      "metadata": {
        "id": "gi3q7Lx-MXrO",
        "colab_type": "code",
        "colab": {}
      },
      "source": [
        ""
      ],
      "execution_count": 0,
      "outputs": []
    }
  ]
}