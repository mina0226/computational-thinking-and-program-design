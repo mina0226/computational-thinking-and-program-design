{
  "nbformat": 4,
  "nbformat_minor": 0,
  "metadata": {
    "colab": {
      "name": "think_week11_a108060006_2.ipynb",
      "provenance": [],
      "authorship_tag": "ABX9TyM76/gzAbUwr+duDTihoHNe",
      "include_colab_link": true
    },
    "kernelspec": {
      "name": "python3",
      "display_name": "Python 3"
    }
  },
  "cells": [
    {
      "cell_type": "markdown",
      "metadata": {
        "id": "view-in-github",
        "colab_type": "text"
      },
      "source": [
        "<a href=\"https://colab.research.google.com/github/mina0226/computational-thinking-and-program-design/blob/master/think_week11_a108060006_2.ipynb\" target=\"_parent\"><img src=\"https://colab.research.google.com/assets/colab-badge.svg\" alt=\"Open In Colab\"/></a>"
      ]
    },
    {
      "cell_type": "markdown",
      "metadata": {
        "id": "mOgG7pMiQ2p2",
        "colab_type": "text"
      },
      "source": [
        "機器人:你好！主人！很高興為你服務。\n",
        "\n",
        "客人：我想和主廚談話？\n",
        "\n",
        "機器人:主人沒有這項功能喔！可以打電話到本公司詢問，會有櫃檯人員為你服務。\n",
        "\n",
        "機器人:那請問需要什麼餐點呢？\n",
        "\n",
        "鮪魚壽司定貫\n",
        "\n",
        "鮭魚壽司定貫\n",
        "\n",
        "菲力牛排套餐\n",
        "\n",
        "銀雪香煎套餐\n",
        "\n",
        "黑松板豬套餐\n",
        "\n",
        "嫩煎雞排套餐\n",
        "\n",
        "什錦五蔬套餐\n",
        "\n",
        "嫩烤羊腿套餐\n",
        "\n",
        "鹽烤秋刀魚套餐\n",
        "\n",
        "沙朗牛排套餐\n",
        "\n",
        "以上套餐均附前菜（沙拉或餐包或醃漬梅）、湯（洋蔥湯或蘑菇濃湯）、甜品（紅豆麻糬或紫泥芋球）。\n",
        "\n",
        "客人：鮭魚壽司定貫。\n",
        "\n",
        "機器人:不好意思喔！主人鮭魚還在海裡游抓不到。\n",
        "我幫你推薦您點菲力牛排套餐！\n",
        "\n",
        "客人:好喔!\n",
        "\n",
        "機器人:我看你氣色不好，可以幫你前菜點生菜沙拉好嗎？\n",
        "\n",
        "客人：好的。\n",
        "\n",
        "機器人:那主人你需要什麼醬呢？\n",
        "\n",
        "客人：凱薩醬。\n",
        "\n",
        "機器人:啊醬沒了！主人沒關係吃原味就好。\n",
        "主人菲力要幾分熟呢？\n",
        "\n",
        "客人：五分熟。\n",
        "\n",
        "機器人:好喔主人！那湯品有洋蔥湯和蘑菇濃湯要哪一種呢？\n",
        "\n",
        "客人：洋蔥湯。\n",
        "\n",
        "機器人:不好意思洋蔥剩一點，我幫你加洋蔥圈，味道也有洋蔥味，差不多啦！\n",
        "\n",
        "客人:蛤.....好吧。\n",
        "\n",
        "機器人:那最後甜點有紅豆麻糬跟紫泥芋球，請問要哪款呢？\n",
        "\n",
        "客人：紫泥芋球。\n",
        "\n",
        "機器人:好的！紫泥芋球要儘快吃，不然會冷掉，就不好吃了！\n",
        "\n",
        "客人：瞭解。\n",
        "\n",
        "機器人:期待您下次的光臨！您的光顧，是我們的感動，啾咪！\n",
        "\n",
        "客人os：真的會感動，因爲我不用再來了\n",
        "\n",
        "\n",
        "\n",
        "\n"
      ]
    }
  ]
}