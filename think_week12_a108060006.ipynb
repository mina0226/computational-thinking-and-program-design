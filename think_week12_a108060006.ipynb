{
  "nbformat": 4,
  "nbformat_minor": 0,
  "metadata": {
    "colab": {
      "name": "think_week12_a108060006.ipynb",
      "provenance": [],
      "collapsed_sections": [],
      "authorship_tag": "ABX9TyOqOBTjrLmD3v8UFKvv9KmU",
      "include_colab_link": true
    },
    "kernelspec": {
      "name": "python3",
      "display_name": "Python 3"
    }
  },
  "cells": [
    {
      "cell_type": "markdown",
      "metadata": {
        "id": "view-in-github",
        "colab_type": "text"
      },
      "source": [
        "<a href=\"https://colab.research.google.com/github/mina0226/computational-thinking-and-program-design/blob/master/think_week12_a108060006.ipynb\" target=\"_parent\"><img src=\"https://colab.research.google.com/assets/colab-badge.svg\" alt=\"Open In Colab\"/></a>"
      ]
    },
    {
      "cell_type": "code",
      "metadata": {
        "id": "U5Ca22gP9Qk6",
        "colab_type": "code",
        "colab": {
          "base_uri": "https://localhost:8080/",
          "height": 85
        },
        "outputId": "05246e29-ee5b-41b1-c0b3-f11ee0656770"
      },
      "source": [
        "#Input\n",
        "noodle = input(\"有麵嗎？(YES/NO)\")\n",
        "sauce = input(\"有醬料嗎？(YES/NO)\")\n",
        "\n",
        "#Process\n",
        "if noodle == \"YES\" and sauce == \"YES\":\n",
        "    print(\"今晚吃義大利麵\")\n",
        "\n",
        "#Output\n",
        "print(\"Well done!\")"
      ],
      "execution_count": 17,
      "outputs": [
        {
          "output_type": "stream",
          "text": [
            "有麵嗎？(YES/NO)YES\n",
            "有醬料嗎？(YES/NO)YES\n",
            "今晚吃義大利麵\n",
            "Well done!\n"
          ],
          "name": "stdout"
        }
      ]
    },
    {
      "cell_type": "code",
      "metadata": {
        "id": "CWbtzgHPC7Z7",
        "colab_type": "code",
        "colab": {
          "base_uri": "https://localhost:8080/",
          "height": 85
        },
        "outputId": "636ca3d4-e3f2-4fd2-93ba-0546bbd5d5fc"
      },
      "source": [
        "#Input\n",
        "noodle = input(\"有麵嗎？(YES/NO)\")\n",
        "sauce = input(\"有醬料嗎？(YES/NO)\")\n",
        "\n",
        "#Process\n",
        "if noodle == \"NO\" and sauce == \"NO\":\n",
        "    print(\"今晚不能吃義大利麵\")\n",
        "\n",
        "#Output\n",
        "print(\"So sad\")"
      ],
      "execution_count": 18,
      "outputs": [
        {
          "output_type": "stream",
          "text": [
            "有麵嗎？(YES/NO)NO\n",
            "有醬料嗎？(YES/NO)NO\n",
            "今晚不能吃義大利麵\n",
            "So sad\n"
          ],
          "name": "stdout"
        }
      ]
    },
    {
      "cell_type": "code",
      "metadata": {
        "id": "PlOklxKNDQr7",
        "colab_type": "code",
        "colab": {
          "base_uri": "https://localhost:8080/",
          "height": 85
        },
        "outputId": "b5d4d106-38e1-4f70-c9d4-66eb06d2eae3"
      },
      "source": [
        "#Input\n",
        "noodle = input(\"有麵嗎？(YES/NO)\")\n",
        "sauce = input(\"有醬料嗎？(YES/NO)\")\n",
        "\n",
        "#Process\n",
        "if noodle ==\"YES\":\n",
        "    if sauce == \"YES\":\n",
        "        print(\"可做義大利麵！\")\n",
        "\n",
        "#Output\n",
        "print(\"真是太好了！\")"
      ],
      "execution_count": 21,
      "outputs": [
        {
          "output_type": "stream",
          "text": [
            "有麵嗎？(YES/NO)YES\n",
            "有醬料嗎？(YES/NO)YES\n",
            "可做義大利麵！\n",
            "真是太好了！\n"
          ],
          "name": "stdout"
        }
      ]
    },
    {
      "cell_type": "code",
      "metadata": {
        "id": "DdqI4otGEhFB",
        "colab_type": "code",
        "colab": {
          "base_uri": "https://localhost:8080/",
          "height": 85
        },
        "outputId": "acb3c48d-3e22-44c5-ce13-c752d65ff388"
      },
      "source": [
        "#Input\n",
        "noodle = input(\"有麵嗎？(YES/NO)\")\n",
        "sauce = input(\"有醬料嗎？(YES/NO)\")\n",
        "\n",
        "#Process\n",
        "if noodle ==\"NO\":\n",
        "    if sauce == \"NO\":\n",
        "        print(\"不行做義大利麵！\")\n",
        "\n",
        "#Output\n",
        "print(\"嗚嗚嗚好難過\")"
      ],
      "execution_count": 23,
      "outputs": [
        {
          "output_type": "stream",
          "text": [
            "有麵嗎？(YES/NO)NO\n",
            "有醬料嗎？(YES/NO)NO\n",
            "不行做義大利麵！\n",
            "嗚嗚嗚好難過\n"
          ],
          "name": "stdout"
        }
      ]
    }
  ]
}