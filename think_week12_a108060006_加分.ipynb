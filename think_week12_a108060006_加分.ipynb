{
  "nbformat": 4,
  "nbformat_minor": 0,
  "metadata": {
    "colab": {
      "name": "think_week12_a108060006_加分.ipynb",
      "provenance": [],
      "authorship_tag": "ABX9TyPeHRUl+lD4AGZ/o6/6pnVg",
      "include_colab_link": true
    },
    "kernelspec": {
      "name": "python3",
      "display_name": "Python 3"
    }
  },
  "cells": [
    {
      "cell_type": "markdown",
      "metadata": {
        "id": "view-in-github",
        "colab_type": "text"
      },
      "source": [
        "<a href=\"https://colab.research.google.com/github/mina0226/computational-thinking-and-program-design/blob/master/think_week12_a108060006_%E5%8A%A0%E5%88%86.ipynb\" target=\"_parent\"><img src=\"https://colab.research.google.com/assets/colab-badge.svg\" alt=\"Open In Colab\"/></a>"
      ]
    },
    {
      "cell_type": "code",
      "metadata": {
        "id": "7mXDmLjQFXIT",
        "colab_type": "code",
        "colab": {
          "base_uri": "https://localhost:8080/",
          "height": 85
        },
        "outputId": "f0003f5a-5bbb-40ee-ee57-9166b000954e"
      },
      "source": [
        "#Input\n",
        "hungry = input(\"現在餓嗎？(YES/NO)\")\n",
        "price = float(input(\"一條巧克力多少錢？\"))\n",
        "\n",
        "#Process\n",
        "bars = 0\n",
        "if hungry == \"YES\":\n",
        "    if price < 10:\n",
        "        print(\"好便宜喔，可以多買些\")\n",
        "        bars = 100\n",
        "    if 10<= price <=50:\n",
        "        print(\"還好，買一點就好\")\n",
        "        bars = 10\n",
        "    if price > 50:\n",
        "        print(\"好貴，買一條就好\")\n",
        "        bars = 1\n",
        "if hungry ==\"NO\":\n",
        "    print(\"不餓就不買了\")\n",
        "if bars > 10:\n",
        "    print(\"店員說：今天很餓！\")                    "
      ],
      "execution_count": 3,
      "outputs": [
        {
          "output_type": "stream",
          "text": [
            "現在餓嗎？(YES/NO)YES\n",
            "一條巧克力多少錢？8\n",
            "好便宜喔，可以多買些\n",
            "店員說：今天很餓！\n"
          ],
          "name": "stdout"
        }
      ]
    }
  ]
}