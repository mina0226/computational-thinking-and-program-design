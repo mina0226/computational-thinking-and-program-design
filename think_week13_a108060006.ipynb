{
  "nbformat": 4,
  "nbformat_minor": 0,
  "metadata": {
    "colab": {
      "name": "think_week13_a108060006.ipynb",
      "provenance": [],
      "authorship_tag": "ABX9TyPsTHM3ms4gAsHbfBH8PHHH",
      "include_colab_link": true
    },
    "kernelspec": {
      "name": "python3",
      "display_name": "Python 3"
    }
  },
  "cells": [
    {
      "cell_type": "markdown",
      "metadata": {
        "id": "view-in-github",
        "colab_type": "text"
      },
      "source": [
        "<a href=\"https://colab.research.google.com/github/mina0226/computational-thinking-and-program-design/blob/master/think_week13_a108060006.ipynb\" target=\"_parent\"><img src=\"https://colab.research.google.com/assets/colab-badge.svg\" alt=\"Open In Colab\"/></a>"
      ]
    },
    {
      "cell_type": "code",
      "metadata": {
        "id": "MfVjdwWO3b3y",
        "colab_type": "code",
        "colab": {
          "base_uri": "https://localhost:8080/",
          "height": 54
        },
        "outputId": "13868fb1-c103-49db-a89f-6352aa9d223b"
      },
      "source": [
        "#方法一 : 單向選擇\n",
        "\n",
        "grade=input(\"請輸入成績?\") #文字資料\n",
        "grade=int(grade) #成績轉成數字資料\n",
        "\n",
        "if grade >= 80:\n",
        "    print(\"非常優秀\")\n",
        "if 80> grade >= 60:\n",
        "    print(\"不錯喔\")\n",
        "if grade < 60:\n",
        "    print(\"再加油喔\")          "
      ],
      "execution_count": 1,
      "outputs": [
        {
          "output_type": "stream",
          "text": [
            "請輸入成績?87\n",
            "非常優秀\n"
          ],
          "name": "stdout"
        }
      ]
    },
    {
      "cell_type": "code",
      "metadata": {
        "id": "ktAWlTds9S1g",
        "colab_type": "code",
        "colab": {
          "base_uri": "https://localhost:8080/",
          "height": 72
        },
        "outputId": "2b3e94c0-6c14-4faf-c3f1-0377d82f4a25"
      },
      "source": [
        "#方法二 : 雙向選擇\n",
        "\n",
        "grade=input(\"請輸入成績?\") #文字資料\n",
        "grade=int(grade) #成績轉成數字資料\n",
        "\n",
        "if grade >=80:\n",
        "    print(\"非常優秀\")\n",
        "else:\n",
        "  print(\"加油\")\n",
        "  if grade >= 60:\n",
        "    print(\"不錯喔\")\n",
        "  else:\n",
        "   print(\"再努力吧\")  "
      ],
      "execution_count": 2,
      "outputs": [
        {
          "output_type": "stream",
          "text": [
            "請輸入成績?66\n",
            "加油\n",
            "不錯喔\n"
          ],
          "name": "stdout"
        }
      ]
    },
    {
      "cell_type": "code",
      "metadata": {
        "id": "-6z5O64j_HPU",
        "colab_type": "code",
        "colab": {
          "base_uri": "https://localhost:8080/",
          "height": 54
        },
        "outputId": "4f1c6a4a-27a1-4502-f589-17b864b1f19b"
      },
      "source": [
        "#方法三 : 多向選擇\n",
        "\n",
        "grade=input(\"請輸入成績?\") #文字資料\n",
        "grade=int(grade) #成績轉成數字資料\n",
        "\n",
        "if grade >=80:\n",
        "   print(\"非常優秀\")\n",
        "elif grade >=60:\n",
        "  print(\"不錯喔\")\n",
        "else:\n",
        "  print(\"再加油\")  \n"
      ],
      "execution_count": 3,
      "outputs": [
        {
          "output_type": "stream",
          "text": [
            "請輸入成績?55\n",
            "再加油\n"
          ],
          "name": "stdout"
        }
      ]
    },
    {
      "cell_type": "code",
      "metadata": {
        "id": "UV9KfmOkAYIw",
        "colab_type": "code",
        "colab": {}
      },
      "source": [
        ""
      ],
      "execution_count": 0,
      "outputs": []
    }
  ]
}